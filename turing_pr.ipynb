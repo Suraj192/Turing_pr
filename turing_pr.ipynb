{
 "cells": [
  {
   "cell_type": "markdown",
   "id": "5c45d26f",
   "metadata": {},
   "source": [
    "### 1 \n",
    "You are keeping score for a basketball game with strange rules. The gameconsists of several rounds, where the scores of past rounds may affect future rounds' scores.\n",
    "At the beginning of the game, you start with an empty record. You are given a list of strings ops, where ops[i] is the ith operation you must apply to the record and is one of the following:\n",
    "   1. An integer x - Record a new score of x.\n",
    "   2. \"+\" - record a new score that is the sum of the previous two scores. It is guaranteed there will always be two scores.\n",
    "   3. \"d\" - Record a new score that is double the previous score. It is guaranteed there will always be previous scores.\n",
    "   4. \"c\" - Invalidate the previous score, removing it from the record. It is guranteed there will always be previous scores.\n",
    "    \n",
    "Return the sum of all the scores in the record."
   ]
  },
  {
   "cell_type": "code",
   "execution_count": 103,
   "id": "4250ba08",
   "metadata": {},
   "outputs": [
    {
     "name": "stdout",
     "output_type": "stream",
     "text": [
      "orb: 5,3,6,-2,6,c,d,+\n",
      "[5, 3, 6, -2, 6, 'c', 'd', '+']\n",
      "[5, 3, 6, -2, -4, -6]\n",
      "2\n"
     ]
    }
   ],
   "source": [
    "var1 = input('orb: ')\n",
    "var1 = var1.split(',')\n",
    "\n",
    "# print(var1)\n",
    "\n",
    "ops_in = []\n",
    "for i in var1:\n",
    "    try:\n",
    "        i = int(i)\n",
    "        ops_in.append(i)\n",
    "    except:\n",
    "        ops_in.append(i)\n",
    "    \n",
    "\n",
    "print(ops_in)\n",
    "\n",
    "ops = []\n",
    "for i in ops_in:\n",
    "    if type(i) == int:\n",
    "        ops.append(i)\n",
    "    elif i == 'c':\n",
    "        ops.pop()\n",
    "    elif i == 'd':\n",
    "        ops.append(ops[-1]*2)\n",
    "    elif i == '+':\n",
    "        ops.append(ops[-1]+ops[-2])\n",
    "    \n",
    "\n",
    "print(ops)\n",
    "print(sum(ops))"
   ]
  },
  {
   "cell_type": "markdown",
   "id": "1ba573dc",
   "metadata": {},
   "source": [
    "### 2\n",
    "Given an integer array arr, count how many elements x there are, such that x+1 is also in arr. If there're duplicates in arr, count them separately\n"
   ]
  },
  {
   "cell_type": "code",
   "execution_count": 113,
   "id": "85b9f919",
   "metadata": {},
   "outputs": [
    {
     "name": "stdout",
     "output_type": "stream",
     "text": [
      "orb: 1,3,5,8,9,6,4,1,2,2,2\n",
      "[1, 3, 5, 8, 9, 6, 4, 1, 2, 2, 2]\n",
      "9\n"
     ]
    }
   ],
   "source": [
    "var1 = input('orb: ')\n",
    "var1 = var1.split(',')\n",
    "var1 = [int(i) for i in var1]\n",
    "print(var1)\n",
    "count = 0\n",
    "for i in var1:\n",
    "    if i+1 in var1:\n",
    "        count +=1\n",
    "print(count)"
   ]
  },
  {
   "cell_type": "markdown",
   "id": "b366a42c",
   "metadata": {},
   "source": [
    "# 3\n",
    "Rotating the element of list by the last kth chosen element."
   ]
  },
  {
   "cell_type": "code",
   "execution_count": 125,
   "id": "47f42933",
   "metadata": {},
   "outputs": [
    {
     "name": "stdout",
     "output_type": "stream",
     "text": [
      "[1, 3, 'r', 6, 'a']\n"
     ]
    },
    {
     "data": {
      "text/plain": [
       "[6, 'a', 1, 3, 'r']"
      ]
     },
     "execution_count": 125,
     "metadata": {},
     "output_type": "execute_result"
    }
   ],
   "source": [
    "def rotate(X,k):\n",
    "    print(X)\n",
    "    b = X[-k:] + X[:-k]\n",
    "    return b\n",
    "rotate([1,3,'r',6,'a'],2)"
   ]
  },
  {
   "cell_type": "code",
   "execution_count": null,
   "id": "3a20b89d",
   "metadata": {},
   "outputs": [],
   "source": []
  }
 ],
 "metadata": {
  "kernelspec": {
   "display_name": "Python 3",
   "language": "python",
   "name": "python3"
  },
  "language_info": {
   "codemirror_mode": {
    "name": "ipython",
    "version": 3
   },
   "file_extension": ".py",
   "mimetype": "text/x-python",
   "name": "python",
   "nbconvert_exporter": "python",
   "pygments_lexer": "ipython3",
   "version": "3.8.8"
  }
 },
 "nbformat": 4,
 "nbformat_minor": 5
}
